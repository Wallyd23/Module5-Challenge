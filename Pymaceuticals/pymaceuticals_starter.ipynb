{
 "cells": [
  {
   "attachments": {},
   "cell_type": "markdown",
   "metadata": {},
   "source": [
    "# Pymaceuticals Inc.\n",
    "---\n",
    "\n",
    "### Analysis\n",
    "\n",
    "- Add your analysis here.\n",
    " "
   ]
  },
  {
   "cell_type": "code",
   "execution_count": null,
   "metadata": {},
   "outputs": [],
   "source": [
    "# Dependencies and Setup\n",
    "import matplotlib.pyplot as plt\n",
    "import pandas as pd\n",
    "import scipy.stats as st\n",
    "\n",
    "# Study data files\n",
    "mouse_metadata_path = \"data/Mouse_metadata.csv\"\n",
    "study_results_path = \"data/Study_results.csv\"\n",
    "\n",
    "# Read the mouse data and the study results\n",
    "mouse_metadata = pd.read_csv(mouse_metadata_path)\n",
    "study_results = pd.read_csv(study_results_path)\n",
    "\n",
    "# Combine the data into a single DataFrame\n",
    "combined = pd.merge(study_results, mouse_metadata, how=\"left\", on=\"Mouse ID\")\n",
    "combined.head()\n",
    "\n",
    "# Display the data table for preview\n"
   ]
  },
  {
   "cell_type": "code",
   "execution_count": null,
   "metadata": {},
   "outputs": [],
   "source": [
    "# Checking the number of mice. \n",
    "combined[\"Mouse ID\"].nunique()\n"
   ]
  },
  {
   "cell_type": "code",
   "execution_count": null,
   "metadata": {},
   "outputs": [],
   "source": [
    "# Our data should be uniquely identified by Mouse ID and Timepoint\n",
    "# Get the duplicate mice by ID number that shows up for Mouse ID and Timepoint. \n",
    "\n",
    "duplicate = combined.loc[combined.duplicated(subset= [\"Mouse ID\", \"Timepoint\"]),\"Mouse ID\"].unique()\n",
    "duplicate\n",
    "\n"
   ]
  },
  {
   "cell_type": "code",
   "execution_count": null,
   "metadata": {},
   "outputs": [],
   "source": [
    "# Optional: Get all the data for the duplicate mouse ID. \n"
   ]
  },
  {
   "cell_type": "code",
   "execution_count": null,
   "metadata": {},
   "outputs": [],
   "source": [
    "# Create a clean DataFrame by dropping the duplicate mouse by its ID.\n",
    "\n",
    "clean = combined.loc[combined[\"Mouse ID\"].isin(duplicate)== False]\n",
    "clean\n"
   ]
  },
  {
   "cell_type": "code",
   "execution_count": null,
   "metadata": {},
   "outputs": [],
   "source": [
    "# Checking the number of mice in the clean DataFrame.\n",
    "clean[\"Mouse ID\"].nunique()"
   ]
  },
  {
   "cell_type": "markdown",
   "metadata": {},
   "source": [
    "## Summary Statistics"
   ]
  },
  {
   "cell_type": "code",
   "execution_count": null,
   "metadata": {},
   "outputs": [],
   "source": [
    "clean.groupby(\"Drug Regimen\")[\"Tumor Volume (mm3)\"].mean()"
   ]
  },
  {
   "cell_type": "code",
   "execution_count": null,
   "metadata": {},
   "outputs": [],
   "source": [
    "# Generate a summary statistics table of mean, median, variance, standard deviation, and SEM of the tumor volume for each regimen\n",
    "\n",
    "# Use groupby and summary statistical methods to calculate the following properties of each drug regimen: \n",
    "# mean, median, variance, standard deviation, and SEM of the tumor volume. \n",
    "# Assemble the resulting series into a single summary DataFrame.\n",
    "means = clean.groupby(\"Drug Regimen\")[\"Tumor Volume (mm3)\"].mean()\n",
    "medians = clean.groupby(\"Drug Regimen\")[\"Tumor Volume (mm3)\"].median()\n",
    "variances = clean.groupby(\"Drug Regimen\")[\"Tumor Volume (mm3)\"].var()\n",
    "stds = clean.groupby(\"Drug Regimen\")[\"Tumor Volume (mm3)\"].std()\n",
    "sems = clean.groupby(\"Drug Regimen\")[\"Tumor Volume (mm3)\"].sem()\n",
    "summary1 = pd.DataFrame({\n",
    "    \"Mean Tumor Volume\" : means,\n",
    "    \"Median Tumor Volume\" : medians,\n",
    "    \"Tumor Volume Variance\" : variances,\n",
    "    \"Tumor Volume Std. Dev.\" : stds,\n",
    "    \"Tumor Volume Std. Err.\" : sems\n",
    "})\n",
    "summary1\n"
   ]
  },
  {
   "cell_type": "code",
   "execution_count": null,
   "metadata": {},
   "outputs": [],
   "source": [
    "# A more advanced method to generate a summary statistics table of mean, median, variance, standard deviation,\n",
    "# and SEM of the tumor volume for each regimen (only one method is required in the solution)\n",
    "\n",
    "# Using the aggregation method, produce the same summary statistics in a single line\n",
    "summary1 = clean.groupby(\"Drug Regimen\")[\"Tumor Volume (mm3)\"].agg(['mean', 'median', 'var', 'std', 'sem']).rename(\n",
    "    columns={'mean': 'Mean Tumor Volume',\n",
    "             'median': 'Median Tumor Volume',\n",
    "             'var': 'Tumor Volume Variance',\n",
    "             'std': 'Tumor Volume Std. Dev.',\n",
    "             'sem': 'Tumor Volume Std. Err.'})\n",
    "summary1"
   ]
  },
  {
   "cell_type": "markdown",
   "metadata": {},
   "source": [
    "## Bar and Pie Charts"
   ]
  },
  {
   "cell_type": "code",
   "execution_count": null,
   "metadata": {},
   "outputs": [],
   "source": [
    "# Generate a bar plot showing the total number of rows (Mouse ID/Timepoints) for each drug regimen using Pandas.\n",
    "import matplotlib.pyplot as plt\n",
    "\n",
    "# Count the occurrences of each drug regimen\n",
    "drug_regimen_counts = clean['Drug Regimen'].value_counts()\n",
    "\n",
    "# Plot the results\n",
    "drug_regimen_counts.plot(kind='bar', figsize=(10, 6), color='blue')\n",
    "\n",
    "# Add labels and title\n",
    "plt.title('Total Number of Rows for Each Drug Regimen')\n",
    "plt.xlabel('Drug Regimen')\n",
    "plt.ylabel(\"# of observed mouse time points\")\n",
    "# Show plot\n",
    "plt.xticks(rotation=45)  # Rotate x-axis labels for better readability\n",
    "plt.tight_layout()  # Adjust layout to prevent clipping of labels\n",
    "plt.show()"
   ]
  },
  {
   "cell_type": "code",
   "execution_count": null,
   "metadata": {},
   "outputs": [],
   "source": [
    "# Generate a bar plot showing the total number of rows (Mouse ID/Timepoints) for each drug regimen using pyplot.\n",
    "import matplotlib.pyplot as plt\n",
    "\n",
    "# Count the occurrences of each drug regimen\n",
    "drug_regimen_counts = clean['Drug Regimen'].value_counts()\n",
    "\n",
    "# Plot the results\n",
    "drug_regimen_counts.plot(kind='bar', figsize=(10, 6), color='blue')\n",
    "\n",
    "# Add labels and title\n",
    "plt.title('Total Number of Rows for Each Drug Regimen')\n",
    "plt.xlabel('Drug Regimen')\n",
    "plt.ylabel('Number of Rows')\n",
    "\n",
    "# Show plot\n",
    "plt.xticks(rotation=45)  # Rotate x-axis labels for better readability\n",
    "plt.tight_layout()  # Adjust layout to prevent clipping of labels\n",
    "plt.show()"
   ]
  },
  {
   "cell_type": "code",
   "execution_count": null,
   "metadata": {},
   "outputs": [],
   "source": [
    "# Count the occurrences of each gender\n",
    "gender_counts = clean['Sex'].value_counts()\n",
    "\n",
    "# Plot the results as a pie chart\n",
    "gender_counts.plot(kind='pie', figsize=(8, 8), autopct='%1.1f%%', colors=['lightblue', 'lightpink'])\n",
    "\n",
    "# Add title and labels\n",
    "plt.title('Distribution of Female vs. Male Mice')\n",
    "plt.ylabel('')  # Remove y-axis label\n",
    "\n",
    "# Show plot\n",
    "plt.axis('equal')  # Equal aspect ratio ensures that pie is drawn as a circle\n",
    "plt.show()"
   ]
  },
  {
   "cell_type": "code",
   "execution_count": null,
   "metadata": {},
   "outputs": [],
   "source": [
    "# Generate a pie plot showing the distribution of female versus male mice using pyplot\n",
    "# Count the occurrences of each gender\n",
    "gender_counts = clean['Sex'].value_counts()\n",
    "\n",
    "# Extract gender labels and their corresponding counts\n",
    "gender_labels = gender_counts.index\n",
    "gender_values = gender_counts.values\n",
    "\n",
    "# Create a pie plot\n",
    "plt.figure(figsize=(8, 8))\n",
    "plt.pie(gender_values, labels=gender_labels, autopct='%1.1f%%', colors=['blue', 'orange'])\n",
    "\n",
    "# Add title\n",
    "plt.text(-1.1, 0, 'Sex', fontsize=16, rotation=90, verticalalignment='center')\n",
    "\n",
    "\n",
    "\n",
    "# Show plot\n",
    "plt.axis('equal')  # Equal aspect ratio ensures that pie is drawn as a circle\n",
    "plt.show()"
   ]
  },
  {
   "cell_type": "markdown",
   "metadata": {},
   "source": [
    "## Quartiles, Outliers and Boxplots"
   ]
  },
  {
   "cell_type": "code",
   "execution_count": null,
   "metadata": {},
   "outputs": [],
   "source": [
    "# Step 1: Get the last (greatest) timepoint for each mouse\n",
    "last_timepoint = clean.groupby('Mouse ID')['Timepoint'].max().reset_index()\n",
    "\n",
    "# Step 2: Merge this group DataFrame with the original DataFrame to get the tumor volume at the last timepoint\n",
    "merged_df = pd.merge(last_timepoint, clean, on=['Mouse ID', 'Timepoint'], how='left')\n",
    "\n",
    "# Step 3: Filter the merged DataFrame to include only the specified treatment regimens\n",
    "selected_regimens = ['Capomulin', 'Ramicane', 'Infubinol', 'Ceftamin']\n",
    "final_tumor_volume_df = merged_df[merged_df['Drug Regimen'].isin(selected_regimens)]\n",
    "\n",
    "# Step 4: Extract the final tumor volume of each mouse for further analysis\n",
    "final_tumor_volume = final_tumor_volume_df[['Mouse ID', 'Drug Regimen', 'Tumor Volume (mm3)']]\n",
    "\n",
    "# Display the final tumor volume of each mouse\n",
    "print(final_tumor_volume)\n"
   ]
  },
  {
   "cell_type": "code",
   "execution_count": null,
   "metadata": {},
   "outputs": [],
   "source": [
    "# Step 1: Put treatments into a list for the for loop and later for plot labels\n",
    "treatments = ['Capomulin', 'Ramicane', 'Infubinol', 'Ceftamin']\n",
    "\n",
    "# Step 2: Create empty list to fill with tumor vol data (for plotting)\n",
    "tumor_volume_data = []\n",
    "\n",
    "# Step 3: Calculate the IQR and quantitatively determine if there are any potential outliers\n",
    "for treatment in treatments:\n",
    "    # Filter the final tumor volume DataFrame for the current treatment regimen\n",
    "    treatment_df = final_tumor_volume[final_tumor_volume['Drug Regimen'] == treatment]\n",
    "    \n",
    "    # Get tumor volume data for the current treatment regimen\n",
    "    tumor_volume = treatment_df['Tumor Volume (mm3)']\n",
    "    \n",
    "    # Add tumor volume data to the list for plotting\n",
    "    tumor_volume_data.append(tumor_volume)\n",
    "    \n",
    "    # Calculate quartiles and IQR\n",
    "    quartiles = tumor_volume.quantile([0.25, 0.5, 0.75])\n",
    "    lower_quartile = quartiles[0.25]\n",
    "    upper_quartile = quartiles[0.75]\n",
    "    iqr = upper_quartile - lower_quartile\n",
    "    \n",
    "    # Determine upper and lower bounds\n",
    "    lower_bound = lower_quartile - (1.5 * iqr)\n",
    "    upper_bound = upper_quartile + (1.5 * iqr)\n",
    "    \n",
    "    # Determine potential outliers\n",
    "    outliers = treatment_df[(treatment_df['Tumor Volume (mm3)'] < lower_bound) | \n",
    "                            (treatment_df['Tumor Volume (mm3)'] > upper_bound)]\n",
    "    \n",
    "    # Print results\n",
    "    print(f\"Results for {treatment}:\")\n",
    "    print(f\"IQR: {iqr}\")\n",
    "    print(f\"Lower Quartile: {lower_quartile}\")\n",
    "    print(f\"Upper Quartile: {upper_quartile}\")\n",
    "    print(f\"Lower Bound: {lower_bound}\")\n",
    "    print(f\"Upper Bound: {upper_bound}\")\n",
    "    print(f\"Potential Outliers: {outliers}\\n\")\n"
   ]
  },
  {
   "cell_type": "code",
   "execution_count": null,
   "metadata": {},
   "outputs": [],
   "source": [
    "# Generate a box plot that shows the distrubution of the tumor volume for each treatment group.\n",
    "import matplotlib.pyplot as plt\n",
    "\n",
    "# Create box plot\n",
    "plt.figure(figsize=(10, 6))\n",
    "plt.boxplot(tumor_volume_data, labels=treatments)\n",
    "plt.title('Distribution of Tumor Volume for Each Treatment Group')\n",
    "plt.xlabel('Treatment Regimen')\n",
    "plt.ylabel('Tumor Volume (mm3)')\n",
    "plt.grid(True)\n",
    "plt.show()"
   ]
  },
  {
   "cell_type": "markdown",
   "metadata": {},
   "source": [
    "## Line and Scatter Plots"
   ]
  },
  {
   "cell_type": "code",
   "execution_count": null,
   "metadata": {},
   "outputs": [],
   "source": [
    "# Generate a line plot of tumor volume vs. time point for a single mouse treated with Capomulin\n",
    "# Step 1: Filter the DataFrame to include only data for mice treated with Capomulin\n",
    "capomulin_data = clean[clean['Drug Regimen'] == 'Capomulin']\n",
    "\n",
    "# Step 2: Select data for a single mouse from the filtered DataFrame\n",
    "# For example, let's select data for the first mouse in the Capomulin group\n",
    "mouse_id = capomulin_data['Mouse ID'].iloc[0]\n",
    "single_mouse_data = capomulin_data[capomulin_data['Mouse ID'] == mouse_id]\n",
    "\n",
    "# Step 3: Plot tumor volume vs. time point for the selected mouse\n",
    "plt.figure(figsize=(10, 6))\n",
    "plt.plot(single_mouse_data['Timepoint'], single_mouse_data['Tumor Volume (mm3)'], marker='o', linestyle='-', color='b')\n",
    "plt.title(f'Capomulin treatment of mouse 1509')\n",
    "plt.xlabel('Timepoint')\n",
    "plt.ylabel('Tumor Volume (mm3)')\n",
    "plt.grid(True)\n",
    "plt.show()"
   ]
  },
  {
   "cell_type": "code",
   "execution_count": null,
   "metadata": {},
   "outputs": [],
   "source": [
    "# Generate a scatter plot of mouse weight vs. the average observed tumor volume for the entire Capomulin regimen\n",
    "# Step 1: Group the Capomulin data by mouse ID to calculate the average tumor volume for each mouse\n",
    "capomulin_grouped = capomulin_data.groupby('Mouse ID')\n",
    "\n",
    "# Step 2: Calculate the average tumor volume for each mouse\n",
    "average_tumor_volume = capomulin_grouped['Tumor Volume (mm3)'].mean()\n",
    "\n",
    "# Step 3: Merge the average tumor volume data with the mouse weight data\n",
    "capomulin_avg_tumor_volume_df = pd.merge(average_tumor_volume, clean[['Mouse ID', 'Weight (g)']], on='Mouse ID', how='left')\n",
    "\n",
    "# Step 4: Plot mouse weight vs. the average tumor volume\n",
    "plt.figure(figsize=(10, 6))\n",
    "plt.scatter(capomulin_avg_tumor_volume_df['Weight (g)'], capomulin_avg_tumor_volume_df['Tumor Volume (mm3)'], color='blue')\n",
    "plt.xlabel('Weight (g)')\n",
    "plt.ylabel('Average Tumor Volume (mm3)')\n",
    "plt.grid(True)\n",
    "plt.show()"
   ]
  },
  {
   "cell_type": "markdown",
   "metadata": {},
   "source": [
    "## Correlation and Regression"
   ]
  },
  {
   "cell_type": "code",
   "execution_count": null,
   "metadata": {},
   "outputs": [],
   "source": [
    "# Calculate the correlation coefficient and a linear regression model \n",
    "# for mouse weight and average observed tumor volume for the entire Capomulin regimen\n",
    "from scipy.stats import linregress, pearsonr\n",
    "import matplotlib.pyplot as plt\n",
    "\n",
    "# Calculate the correlation coefficient\n",
    "correlation_coefficient, _ = pearsonr(capomulin_avg_tumor_volume_df['Weight (g)'], capomulin_avg_tumor_volume_df['Tumor Volume (mm3)'])\n",
    "print(\"Correlation Coefficient:\", correlation_coefficient)\n",
    "\n",
    "# Fit a linear regression model\n",
    "slope, intercept, r_value, p_value, std_err = linregress(capomulin_avg_tumor_volume_df['Weight (g)'], capomulin_avg_tumor_volume_df['Tumor Volume (mm3)'])\n",
    "\n",
    "# Plot scatter plot and regression line\n",
    "plt.figure(figsize=(10, 6))\n",
    "plt.scatter(capomulin_avg_tumor_volume_df['Weight (g)'], capomulin_avg_tumor_volume_df['Tumor Volume (mm3)'], color='blue', label='Data')\n",
    "plt.plot(capomulin_avg_tumor_volume_df['Weight (g)'], slope * capomulin_avg_tumor_volume_df['Weight (g)'] + intercept, color='red', label='Linear Regression')\n",
    "plt.title('Mouse Weight vs. Average Tumor Volume (Capomulin Regimen)')\n",
    "plt.xlabel('Weight (g)')\n",
    "plt.ylabel('Average Tumor Volume (mm3)')\n",
    "plt.legend()\n",
    "plt.grid(True)\n",
    "plt.show()"
   ]
  },
  {
   "cell_type": "code",
   "execution_count": null,
   "metadata": {},
   "outputs": [],
   "source": []
  }
 ],
 "metadata": {
  "anaconda-cloud": {},
  "kernelspec": {
   "display_name": "myenv",
   "language": "python",
   "name": "python3"
  },
  "language_info": {
   "codemirror_mode": {
    "name": "ipython",
    "version": 3
   },
   "file_extension": ".py",
   "mimetype": "text/x-python",
   "name": "python",
   "nbconvert_exporter": "python",
   "pygments_lexer": "ipython3",
   "version": "3.9.18"
  }
 },
 "nbformat": 4,
 "nbformat_minor": 4
}
